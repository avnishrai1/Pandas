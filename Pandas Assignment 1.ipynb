{
 "cells": [
  {
   "cell_type": "code",
   "execution_count": 1,
   "id": "b90bd989-6c98-45e5-a1c6-cf8860cea95c",
   "metadata": {},
   "outputs": [
    {
     "name": "stdout",
     "output_type": "stream",
     "text": [
      "0     4\n",
      "1     8\n",
      "2    15\n",
      "3    16\n",
      "4    23\n",
      "5    42\n",
      "dtype: int64\n"
     ]
    }
   ],
   "source": [
    "\"\"\"\n",
    "Q1. Create a Pandas Series that contains the following data: 4, 8, 15, 16, 23, and 42. Then, print the series.\n",
    "\"\"\"\n",
    "import pandas as pd\n",
    "series = pd.Series([4, 8, 15, 16, 23, 42])\n",
    "print(series)"
   ]
  },
  {
   "cell_type": "code",
   "execution_count": 4,
   "id": "5d87d20f-dab1-498e-910e-777b991fc088",
   "metadata": {},
   "outputs": [
    {
     "name": "stdout",
     "output_type": "stream",
     "text": [
      "0     1\n",
      "1     2\n",
      "2     3\n",
      "3     4\n",
      "4     5\n",
      "5     6\n",
      "6     7\n",
      "7     8\n",
      "8     9\n",
      "9    10\n",
      "dtype: int64\n"
     ]
    }
   ],
   "source": [
    "\"\"\"\n",
    "Q2. Create a variable of list type containing 10 elements in it, and apply pandas.Series function on the\n",
    "variable print it.\n",
    "\"\"\"\n",
    "import pandas \n",
    "\n",
    "list1 = [1,2,3,4,5,6,7,8,9,10]\n",
    "\n",
    "series = pandas.Series(list1)\n",
    "print(series)"
   ]
  },
  {
   "cell_type": "code",
   "execution_count": 9,
   "id": "28836cd3-9104-4e79-9e17-a35b45c38193",
   "metadata": {},
   "outputs": [
    {
     "name": "stdout",
     "output_type": "stream",
     "text": [
      "     Name  Age  Gender\n",
      "0   Alice   25  Female\n",
      "1     Bob   30    Male\n",
      "2  Claire   27  Female\n"
     ]
    }
   ],
   "source": [
    "\"\"\"\n",
    "Q3. Create a Pandas DataFrame that contains the following data:\n",
    "\"\"\"\n",
    "import pandas\n",
    "\n",
    "data = {'Name' : ['Alice', 'Bob', 'Claire'],\n",
    "        'Age' : [25, 30, 27],\n",
    "        'Gender' : ['Female', 'Male', 'Female']}\n",
    "\n",
    "df = pandas.DataFrame(data)\n",
    "print(df)"
   ]
  },
  {
   "cell_type": "code",
   "execution_count": null,
   "id": "a565e69a-de50-415b-a4be-76146774fe53",
   "metadata": {},
   "outputs": [],
   "source": [
    "\"\"\"\n",
    "Q4. What is ‘DataFrame’ in pandas and how is it different from pandas.series? Explain with an example.\n",
    "Ans.In Pandas, a DataFrame is a two-dimensional, tabular data structure that is capable of holding data of various types. It is similar to \n",
    "    a spreadsheet or a SQL table and is one of the most commonly used data structures for data manipulation and analysis. DataFrames have \n",
    "    both rows and columns, and each column can contain data of a different type. DataFrames are very versatile and provide a wide range of \n",
    "    functions for data exploration, cleaning, and analysis.\n",
    "\n",
    "    On the other hand, a Pandas Series is a one-dimensional labeled array that can also hold data of various types. It is similar to a \n",
    "    single column or a single row of a DataFrame. A Series is essentially a single column or row of data with associated labels \n",
    "    (the index).\n",
    "\"\"\""
   ]
  },
  {
   "cell_type": "code",
   "execution_count": 10,
   "id": "53d6bb73-2573-43b4-9f0e-247deb276348",
   "metadata": {},
   "outputs": [
    {
     "name": "stdout",
     "output_type": "stream",
     "text": [
      "     Name  Age  Gender\n",
      "0   Alice   25  Female\n",
      "1     Bob   30    Male\n",
      "2  Claire   27  Female\n"
     ]
    }
   ],
   "source": [
    "#Example for DataFrame\n",
    "import pandas as pd\n",
    "\n",
    "data = {\n",
    "    'Name': ['Alice', 'Bob', 'Claire'],\n",
    "    'Age': [25, 30, 27],\n",
    "    'Gender': ['Female', 'Male', 'Female']\n",
    "}\n",
    "\n",
    "df = pd.DataFrame(data)\n",
    "print(df)\n"
   ]
  },
  {
   "cell_type": "code",
   "execution_count": 12,
   "id": "ee69b1da-18c8-4f41-b04d-09f52c2329fa",
   "metadata": {},
   "outputs": [
    {
     "name": "stdout",
     "output_type": "stream",
     "text": [
      "0    25\n",
      "1    30\n",
      "2    27\n",
      "dtype: int64\n"
     ]
    }
   ],
   "source": [
    "#Exampple for series :\n",
    "import pandas as pd\n",
    "\n",
    "ages = [25, 30, 27]\n",
    "age_series = pd.Series(ages)\n",
    "\n",
    "print(age_series)\n",
    "\n"
   ]
  },
  {
   "cell_type": "code",
   "execution_count": null,
   "id": "71e1688e-920e-45fd-84a0-99e51d5551d6",
   "metadata": {},
   "outputs": [],
   "source": [
    "\"\"\"\n",
    "Q5. What are some common functions you can use to manipulate data in a Pandas DataFrame? Canyou give an example of when you might use\n",
    "    one of these functions?\n",
    "Ans.Pandas provides a wide range of functions and methods to manipulate data in a DataFrame. Here are some common functions and methods \n",
    "    used for data manipulation in a Pandas DataFrame, along with examples of when you might use them:\n",
    "    \n",
    "    1.Selecting Columns: You can select one or more columns from a DataFrame using indexing or the loc and iloc accessors.\n",
    "    2.Filtering Data: You can filter rows based on conditions using boolean indexing.\n",
    "    3.Sorting Data: You can sort the DataFrame based on one or more columns.\n",
    "    4.Grouping Data: You can group data based on one or more columns and apply aggregate functions.\n",
    "    5.Merging and Joining: You can merge multiple DataFrames based on common columns.\n",
    "    6.Adding or Removing Columns: You can add or remove columns from a DataFrame.\n",
    "\"\"\""
   ]
  },
  {
   "cell_type": "code",
   "execution_count": null,
   "id": "23a28b29-ab35-4b0b-97ae-5532fe45667a",
   "metadata": {},
   "outputs": [],
   "source": [
    "#Selecting Column :\n",
    "\n",
    "df['Column_Name']\n",
    "\n",
    "df[['Column1', 'Column2']]\n",
    "\n",
    "df.loc[:, 'Column_Name']\n",
    "df.iloc[:, 0]"
   ]
  },
  {
   "cell_type": "code",
   "execution_count": null,
   "id": "6528ca09-f013-44cb-9f8d-3dd9ab3f260b",
   "metadata": {},
   "outputs": [],
   "source": [
    "#Filtering Data :\n",
    "\n",
    "df[df['Age'] > 30]"
   ]
  },
  {
   "cell_type": "code",
   "execution_count": null,
   "id": "be0220ef-22a9-4daa-a33f-e79862dd318f",
   "metadata": {},
   "outputs": [],
   "source": [
    "#Sorting Data :\n",
    "\n",
    "df.sort_values(by='Age')\n",
    "\n",
    "df.sort_values(by=['Age', 'Name'])"
   ]
  },
  {
   "cell_type": "code",
   "execution_count": null,
   "id": "e06497a7-9039-4c59-b692-1792504fab2c",
   "metadata": {},
   "outputs": [],
   "source": [
    "#Grouping data :\n",
    "\n",
    "df.groupby('Gender')['Age'].mean()"
   ]
  },
  {
   "cell_type": "code",
   "execution_count": null,
   "id": "c4d5fcda-2218-45f9-b762-f382124f16d6",
   "metadata": {},
   "outputs": [],
   "source": [
    "#Merging Data :\n",
    "\n",
    "merged_df = pd.merge(df1, df2, on='Common_Column')"
   ]
  },
  {
   "cell_type": "code",
   "execution_count": null,
   "id": "a1775ff4-b09c-4d84-a324-5d8bea8e11a3",
   "metadata": {},
   "outputs": [],
   "source": [
    "\"\"\"\n",
    "Q6. Which of the following is mutable in nature Series, DataFrame, Panel?\n",
    "Ans.\n",
    "  Series: Series is mutable, meaning you can modify the values in a Series after it's created. You can change individual elements, add or \n",
    "          remove elements, and update the Series in place.\n",
    "\n",
    "  DataFrame: DataFrame is also mutable. You can modify the values in specific cells, add or remove rows and columns, and make various data \n",
    "             transformations on the DataFrame.\n",
    "\n",
    "  Panel: In older versions of Pandas (prior to version 0.25.0), Panel was a three-dimensional data structure. However, it has been \n",
    "         deprecated and is no longer part of modern Pandas (version 0.25.0 and later). Therefore, it's not relevant to discuss the \n",
    "         mutability of Panels in modern Pandas because they should not be used.\n",
    "\n",
    "  In summary, Series and DataFrame are mutable in nature, but Panels should not be used in modern Pandas as they have been deprecated.\n",
    "\"\"\""
   ]
  },
  {
   "cell_type": "code",
   "execution_count": 16,
   "id": "b3679fe9-fbbd-4ac0-b864-4014e9fce079",
   "metadata": {},
   "outputs": [
    {
     "name": "stdout",
     "output_type": "stream",
     "text": [
      "     Name  Age  Surname  Gender\n",
      "0  Avnish   20      Rai    Male\n",
      "1  Aastha   20    Yadav  Female\n",
      "2   Sagar   21   Sharma    Male\n",
      "3  Chandu   22    Yadav    Male\n",
      "4     Dev   20  Goswami    Male\n"
     ]
    }
   ],
   "source": [
    "\"\"\"\n",
    "Q7. Create a DataFrame using multiple Series. Explain with an example.\n",
    "\"\"\"\n",
    "import pandas as pd\n",
    "\n",
    "name = pd.Series(['Avnish','Aastha','Sagar','Chandu','Dev'])\n",
    "age = pd.Series([20,20,21,22,20])\n",
    "lastname = pd.Series(['Rai','Yadav','Sharma','Yadav','Goswami'])\n",
    "gender = pd.Series(['Male','Female','Male','Male','Male'])\n",
    "\n",
    "df = pd.DataFrame({'Name' : name,\n",
    "                   'Age' : age,\n",
    "                   'Surname' : lastname,\n",
    "                   'Gender' : gender\n",
    "            })\n",
    "\n",
    "print(df)"
   ]
  },
  {
   "cell_type": "code",
   "execution_count": null,
   "id": "129a2834-19cb-4007-879d-dd2d1a215fe6",
   "metadata": {},
   "outputs": [],
   "source": []
  }
 ],
 "metadata": {
  "kernelspec": {
   "display_name": "Python 3 (ipykernel)",
   "language": "python",
   "name": "python3"
  },
  "language_info": {
   "codemirror_mode": {
    "name": "ipython",
    "version": 3
   },
   "file_extension": ".py",
   "mimetype": "text/x-python",
   "name": "python",
   "nbconvert_exporter": "python",
   "pygments_lexer": "ipython3",
   "version": "3.10.8"
  }
 },
 "nbformat": 4,
 "nbformat_minor": 5
}

{
 "cells": [
  {
   "cell_type": "code",
   "execution_count": null,
   "id": "3f195571-e580-4dea-ad64-e898101afb96",
   "metadata": {},
   "outputs": [],
   "source": [
    "\"\"\"\n",
    "Q1. List any five functions of the pandas library with execution.\n",
    "Ans.read_csv(): Used tdf.describe()o read data from a CSV file into a Pandas DataFrame.\n",
    "    head(): Displays the first few rows of a DataFrame (default is the first 5 rows).\n",
    "    info(): Provides information about the DataFrame, including data types and missing values.\n",
    "    describe(): Generates descriptive statistics of the DataFrame's numerical columns.\n",
    "    groupby(): Allows you to group rows of the DataFrame based on one or more columns and perform aggregation operations.\n",
    "\"\"\"\n",
    "\n",
    "import pandas as pd\n",
    "\n",
    "df = pd.read_csv('data.csv')\n",
    "\n",
    "df.head(3)\n",
    "\n",
    "df.info()\n",
    "\n",
    "df.describe()\n",
    "\n",
    "grouped = df.groupby('Category')['Value'].mean()"
   ]
  },
  {
   "cell_type": "code",
   "execution_count": 4,
   "id": "be7df23f-d0e1-41b9-b2c2-395c029e43c0",
   "metadata": {},
   "outputs": [
    {
     "name": "stdout",
     "output_type": "stream",
     "text": [
      "            A   B   C\n",
      "New_Index            \n",
      "1          10  40  70\n",
      "3          20  50  80\n",
      "5          30  60  90\n"
     ]
    }
   ],
   "source": [
    "\"\"\"\n",
    "Q2. Given a Pandas DataFrame df with columns 'A', 'B', and 'C', write a Python function to re-index the DataFrame with a new index that starts \n",
    "    from 1 and increments by 2 for each row.\n",
    "\"\"\"\n",
    "import pandas as pd\n",
    "\n",
    "df = pd.DataFrame({'A': [10, 20, 30], 'B': [40, 50, 60], 'C': [70, 80, 90]})\n",
    "\n",
    "new_index = pd.Index(range(1, 2 * len(df) + 1, 2), name='New_Index')\n",
    "\n",
    "df = df.set_index(new_index)\n",
    "\n",
    "print(df)"
   ]
  },
  {
   "cell_type": "code",
   "execution_count": 5,
   "id": "7f697512-a6a1-4738-911d-e4f08ef969bb",
   "metadata": {},
   "outputs": [
    {
     "name": "stdout",
     "output_type": "stream",
     "text": [
      "Sum of the first three values: 60\n"
     ]
    }
   ],
   "source": [
    "\"\"\"\n",
    "Q3. You have a Pandas DataFrame df with a column named 'Values'. Write a Python function that iterates over the DataFrame and calculates the sum \n",
    "    of the first three values in the 'Values' column. The function should print the sum to the console. \n",
    "    \n",
    "    For example, if the 'Values' column of df contains the values [10, 20, 30, 40, 50], your function should calculate and print the sum of \n",
    "    the first three values, which is 60.\n",
    "\"\"\"\n",
    "import pandas as pd\n",
    "\n",
    "data = {'Values': [10, 20, 30, 40, 50]}\n",
    "df = pd.DataFrame(data)\n",
    "\n",
    "first_three_values = df['Values'].head(3)\n",
    "total_sum = first_three_values.sum()\n",
    "\n",
    "print(\"Sum of the first three values:\", total_sum)"
   ]
  },
  {
   "cell_type": "code",
   "execution_count": 7,
   "id": "7b39f015-5695-452d-8053-0c14ce182dcc",
   "metadata": {},
   "outputs": [
    {
     "name": "stdout",
     "output_type": "stream",
     "text": [
      "                                       Text  Word_Count\n",
      "0                                Avnish Rai           2\n",
      "1                              Sagar Sharma           2\n",
      "2                               Dev Goswami           2\n",
      "3                                    Chandu           1\n",
      "4  have a Pandas DataFrame df with a column           8\n",
      "5                          df with a column           4\n"
     ]
    }
   ],
   "source": [
    "\"\"\"\n",
    "Q4. Given a Pandas DataFrame df with a column 'Text', write a Python function to create a new column 'Word_Count' that contains the number of \n",
    "    words in each row of the 'Text' column.\n",
    "\"\"\"\n",
    "import pandas as pd\n",
    "\n",
    "data = {'Text': ['Avnish Rai', \n",
    "                 'Sagar Sharma', \n",
    "                 'Dev Goswami',\n",
    "                 'Chandu', \n",
    "                 'have a Pandas DataFrame df with a column',' df with a column']\n",
    "       }\n",
    "df = pd.DataFrame(data)\n",
    "\n",
    "df['Word_Count'] = df['Text'].apply(lambda x: len(str(x).split()))\n",
    "\n",
    "print(df)\n"
   ]
  },
  {
   "cell_type": "code",
   "execution_count": 12,
   "id": "4f872c6b-23b1-4079-ac31-1e202da999f8",
   "metadata": {},
   "outputs": [
    {
     "name": "stdout",
     "output_type": "stream",
     "text": [
      "6\n",
      "(3, 2)\n"
     ]
    }
   ],
   "source": [
    "\"\"\"\n",
    "Q5. How are DataFrame.size() and DataFrame.shape() different?\n",
    "Ans.DataFrame.size returns the total number of elements (cells) in the DataFrame, which is equal to the product of the number of rows and the \n",
    "    number of columns. It provides a single integer value representing the total size of the DataFrame.\n",
    "    \n",
    "    DataFrame.shape returns a tuple that represents the dimensions of the DataFrame, where the first element is the number of rows, and the second \n",
    "    element is the number of columns. It provides more detailed information about the structure of the DataFrame.\n",
    "\"\"\"\n",
    "\n",
    "import pandas as pd\n",
    "\n",
    "data = {'A': [1, 2, 3], 'B': [4, 5, 6]}\n",
    "df = pd.DataFrame(data)\n",
    "\n",
    "size = df.size \n",
    "shape = df.shape\n",
    "\n",
    "print(size)  # six element in dataframe\n",
    "print(shape)  # 3 rows and 2 columns in datafrme"
   ]
  },
  {
   "cell_type": "code",
   "execution_count": null,
   "id": "2616fd44-2e41-4c69-b802-cc1066876627",
   "metadata": {},
   "outputs": [],
   "source": [
    "\"\"\"\n",
    "Q6. Which function of pandas do we use to read an excel file?\n",
    "Ans.To read an Excel file using Pandas, you can use the pd.read_excel() function.\n",
    "\"\"\"\n",
    "import pandas as pd\n",
    "\n",
    "df = pd.read_excel('demo.xlsx')\n",
    "\n",
    "\"\"\"\n",
    "    In the code above, replace 'demo.xlsx' with the actual path to your Excel file. pd.read_excel() will read the Excel file and load it into a \n",
    "    Pandas DataFrame, making it easy to work with the data in Python.\n",
    "\"\"\""
   ]
  },
  {
   "cell_type": "code",
   "execution_count": 13,
   "id": "3ad8fea9-d3ce-40d3-9839-2a2895244450",
   "metadata": {},
   "outputs": [
    {
     "name": "stdout",
     "output_type": "stream",
     "text": [
      "                   Email     Username\n",
      "0   john.doe@example.com     john.doe\n",
      "1    avnishrai@gmail.com    avnishrai\n",
      "2  sagarshamra@gamil.com  sagarshamra\n",
      "3       chandu@gmail.com       chandu\n"
     ]
    }
   ],
   "source": [
    "\"\"\"\n",
    "Q7. You have a Pandas DataFrame df that contains a column named 'Email' that contains email addresses in the format 'username@domain.com'. Write a\n",
    "    Python function that creates a new column 'Username' in df that contains only the username part of each email address.\n",
    "    The username is the part of the email address that appears before the '@' symbol. \n",
    "    \n",
    "    For example, if the email address is 'john.doe@example.com', the 'Username' column should contain 'john.doe'. Your function should extract the \n",
    "    username from each email address and store it in the new 'Username' column.\n",
    "\"\"\"\n",
    "\n",
    "import pandas as pd\n",
    "\n",
    "data = {'Email': [\"john.doe@example.com\", \"avnishrai@gmail.com\", \"sagarshamra@gamil.com\", \"chandu@gmail.com\"]}\n",
    "df = pd.DataFrame(data)\n",
    "\n",
    "df['Username'] = df['Email'].str.split('@').str[0]\n",
    "\n",
    "print(df)"
   ]
  },
  {
   "cell_type": "code",
   "execution_count": 17,
   "id": "1367cd15-da7b-4c75-aef6-b41fa340b264",
   "metadata": {},
   "outputs": [
    {
     "name": "stdout",
     "output_type": "stream",
     "text": [
      "   A  B  C\n",
      "1  8  2  7\n",
      "2  6  9  4\n",
      "4  9  1  2\n"
     ]
    }
   ],
   "source": [
    "\"\"\"\n",
    "Q8. You have a Pandas DataFrame df with columns 'A', 'B', and 'C'. Write a Python function that selects all rows where the value in column 'A' \n",
    "    is greater than 5 and the value in column 'B' is less than 10. The function should return a new DataFrame that contains only the selected rows.\n",
    "    For example, if df contains the following values:\n",
    "    A B C\n",
    "    0 3 5 1\n",
    "    1 8 2 7\n",
    "    2 6 9 4\n",
    "    3 2 3 5\n",
    "    4 9 1 2\n",
    "\n",
    "    Your function should select the following rows: A B C\n",
    "    1 8 2 7\n",
    "    4 9 1 2\n",
    "    The function should return a new DataFrame that contains only the selected rows.\n",
    "\"\"\"\n",
    "import pandas as pd\n",
    "\n",
    "data = {'A': [3, 8, 6, 2, 9],\n",
    "        'B': [5, 2, 9, 3, 1],\n",
    "        'C': [1, 7, 4, 5, 2]}\n",
    "\n",
    "df = pd.DataFrame(data)\n",
    "\n",
    "selected_df = df[(df['A'] > 5) & (df['B'] < 10)]\n",
    "\n",
    "print(selected_df)"
   ]
  },
  {
   "cell_type": "code",
   "execution_count": 18,
   "id": "73340db7-dbb6-41c5-816f-d53dcc69f420",
   "metadata": {},
   "outputs": [
    {
     "name": "stdout",
     "output_type": "stream",
     "text": [
      "Mean: 30.0\n",
      "Median: 30.0\n",
      "Standard Deviation: 15.811388300841896\n"
     ]
    }
   ],
   "source": [
    "\"\"\"\n",
    "Q9. Given a Pandas DataFrame df with a column 'Values', write a Python function to calculate the mean, median, and standard deviation of the \n",
    "    values in the 'Values' column.\n",
    "\"\"\"\n",
    "import pandas as pd\n",
    "\n",
    "\n",
    "data = {'Values': [10, 20, 30, 40, 50]}\n",
    "df = pd.DataFrame(data)\n",
    "\n",
    "mean_value = df['Values'].mean()\n",
    "median_value = df['Values'].median()\n",
    "std_deviation = df['Values'].std()\n",
    "\n",
    "print(\"Mean:\", mean_value)\n",
    "print(\"Median:\", median_value)\n",
    "print(\"Standard Deviation:\", std_deviation)\n"
   ]
  },
  {
   "cell_type": "code",
   "execution_count": 21,
   "id": "bde0df07-301e-441c-820e-88cec27b4889",
   "metadata": {},
   "outputs": [
    {
     "name": "stdout",
     "output_type": "stream",
     "text": [
      "        Date  Sales  MovingAverage\n",
      "0 2023-01-01    100            NaN\n",
      "1 2023-01-02    120            NaN\n",
      "2 2023-01-03    130            NaN\n",
      "3 2023-01-04    110            NaN\n",
      "4 2023-01-05    140            NaN\n",
      "5 2023-01-06    160            NaN\n",
      "6 2023-01-07    150     130.000000\n",
      "7 2023-01-08    170     140.000000\n",
      "8 2023-01-09    180     148.571429\n",
      "9 2023-01-10    200     158.571429\n"
     ]
    }
   ],
   "source": [
    "\"\"\"\n",
    "Q10. Given a Pandas DataFrame df with a column 'Sales' and a column 'Date', write a Python function to create a new column 'MovingAverage' that \n",
    "    contains the moving average of the sales for the past 7 days for each row in the DataFrame. The moving average should be calculated using a \n",
    "    window of size 7 and should include the current day.\n",
    "\"\"\"\n",
    "import pandas as pd\n",
    "\n",
    "data = {'Date': pd.date_range(start='2023-01-01', periods=10, freq='D'),\n",
    "        'Sales': [100, 120, 130, 110, 140, 160, 150, 170, 180, 200]}\n",
    "\n",
    "df = pd.DataFrame(data)\n",
    "\n",
    "df['MovingAverage'] = df['Sales'].rolling(window=7).mean()\n",
    "\n",
    "\n",
    "print(df)"
   ]
  },
  {
   "cell_type": "code",
   "execution_count": 23,
   "id": "3be1cbd9-e20d-4d5e-a165-e24157c77a82",
   "metadata": {},
   "outputs": [
    {
     "name": "stdout",
     "output_type": "stream",
     "text": [
      "        Date    Weekday\n",
      "0 2023-01-01     Sunday\n",
      "1 2023-01-02     Monday\n",
      "2 2023-01-03    Tuesday\n",
      "3 2023-01-04  Wednesday\n",
      "4 2023-01-05   Thursday\n"
     ]
    }
   ],
   "source": [
    "\"\"\"\n",
    "Q11. You have a Pandas DataFrame df with a column 'Date'. Write a Python function that creates a new column 'Weekday' in the DataFrame. The\n",
    "    'Weekday' column should contain the weekday name (e.g. Monday, Tuesday) corresponding to each date in the 'Date' column.\n",
    "    For example, if df contains the following values:\n",
    "    \n",
    "    Date\n",
    "    \n",
    "    0 2023-01-01\n",
    "    1 2023-01-02\n",
    "    2 2023-01-03\n",
    "    3 2023-01-04\n",
    "    4 2023-01-05\n",
    "    \n",
    "    Your function should create the following DataFrame:\n",
    "    Date Weekday\n",
    "    0 2023-01-01 Sunday\n",
    "    1 2023-01-02 Monday\n",
    "    2 2023-01-03 Tuesday\n",
    "    3 2023-01-04 Wednesday\n",
    "    4 2023-01-05 Thursday\n",
    "    \n",
    "    The function should return the modified DataFrame.\n",
    "\"\"\"\n",
    "import pandas as pd\n",
    "\n",
    "def add_weekday_column(df):\n",
    "    \n",
    "    df['Date'] = pd.to_datetime(df['Date'])\n",
    "    \n",
    "    df['Weekday'] = df['Date'].dt.strftime('%A')\n",
    "    \n",
    "    return df\n",
    "\n",
    "data = {'Date': ['2023-01-01', '2023-01-02', '2023-01-03', '2023-01-04', '2023-01-05']}\n",
    "df = pd.DataFrame(data)\n",
    "\n",
    "df = add_weekday_column(df)\n",
    "\n",
    "print(df)"
   ]
  },
  {
   "cell_type": "code",
   "execution_count": 25,
   "id": "9f813ef1-4440-4978-922d-d8bd9ba2d0b2",
   "metadata": {},
   "outputs": [
    {
     "name": "stdout",
     "output_type": "stream",
     "text": [
      "        Date\n",
      "0 2023-01-05\n",
      "1 2023-01-15\n",
      "3 2023-01-20\n"
     ]
    }
   ],
   "source": [
    "\"\"\"\n",
    "Q12. Given a Pandas DataFrame df with a column 'Date' that contains timestamps, write a Python function to select all rows where the date is \n",
    "    between '2023-01-01' and '2023-01-31'.\n",
    "\"\"\"\n",
    "import pandas as pd\n",
    "\n",
    "data = {'Date': ['2023-01-05', '2023-01-15', '2023-02-10', '2023-01-20']}\n",
    "df = pd.DataFrame(data)\n",
    "\n",
    "df['Date'] = pd.to_datetime(df['Date'])\n",
    "\n",
    "start_date = pd.to_datetime('2023-01-01')\n",
    "end_date = pd.to_datetime('2023-01-31')\n",
    "\n",
    "selected_df = df[(df['Date'] >= start_date) & (df['Date'] <= end_date)]\n",
    "\n",
    "\n",
    "print(selected_df)\n"
   ]
  },
  {
   "cell_type": "code",
   "execution_count": null,
   "id": "218ca0c6-b052-4d89-95ca-34f7cebe4b2d",
   "metadata": {},
   "outputs": [],
   "source": [
    "\"\"\"\n",
    "Q13. To use the basic functions of pandas, what is the first and foremost necessary library that needs to be imported?\n",
    "Ans.To use the basic functions of Pandas, the first and foremost library that needs to be imported is pandas itself. \n",
    "\n",
    "    import pandas as pd\n",
    "    This line imports the Pandas library and assigns it the alias pd, which is a common convention in the Pandas community. Using pd as an alias\n",
    "    makes it easier to reference Pandas functions and objects in your code. After importing Pandas, you can start using its functions and data \n",
    "    structures like DataFrames and Series to work with data.\n",
    "\"\"\""
   ]
  }
 ],
 "metadata": {
  "kernelspec": {
   "display_name": "Python 3 (ipykernel)",
   "language": "python",
   "name": "python3"
  },
  "language_info": {
   "codemirror_mode": {
    "name": "ipython",
    "version": 3
   },
   "file_extension": ".py",
   "mimetype": "text/x-python",
   "name": "python",
   "nbconvert_exporter": "python",
   "pygments_lexer": "ipython3",
   "version": "3.10.8"
  }
 },
 "nbformat": 4,
 "nbformat_minor": 5
}
